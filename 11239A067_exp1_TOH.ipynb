{
  "nbformat": 4,
  "nbformat_minor": 0,
  "metadata": {
    "colab": {
      "provenance": [],
      "authorship_tag": "ABX9TyMLHNCGWmBIUBPO85gKztkV",
      "include_colab_link": true
    },
    "kernelspec": {
      "name": "python3",
      "display_name": "Python 3"
    },
    "language_info": {
      "name": "python"
    }
  },
  "cells": [
    {
      "cell_type": "markdown",
      "metadata": {
        "id": "view-in-github",
        "colab_type": "text"
      },
      "source": [
        "<a href=\"https://colab.research.google.com/github/Nagatejaswinipandula/11239A067_DAA_LAB/blob/main/11239A067_exp1_TOH.ipynb\" target=\"_parent\"><img src=\"https://colab.research.google.com/assets/colab-badge.svg\" alt=\"Open In Colab\"/></a>"
      ]
    },
    {
      "cell_type": "code",
      "execution_count": 1,
      "metadata": {
        "colab": {
          "base_uri": "https://localhost:8080/"
        },
        "id": "uZI2UwAzd9md",
        "outputId": "9bbd73d6-6f83-4a9f-bcb5-6e8b07cd90f4"
      },
      "outputs": [
        {
          "output_type": "stream",
          "name": "stdout",
          "text": [
            "Enter the number of disks:2\n",
            "move disks 1 from A to B\n",
            "move disks 2 from A to C\n",
            "move disks 1 from B to C\n"
          ]
        }
      ],
      "source": [
        "def tower_of_hanoi (n,source,auxiliary,target):\n",
        "    if n == 1:\n",
        "        print(f\"move disks 1 from {source} to {target}\")\n",
        "        return\n",
        "    tower_of_hanoi (n - 1,source,target,auxiliary)\n",
        "    print(f\"move disks {n} from {source} to {target}\")\n",
        "    tower_of_hanoi (n - 1,auxiliary,source,target)\n",
        "if __name__ == \"__main__\":\n",
        "    n = int(input(\"Enter the number of disks:\"))\n",
        "    tower_of_hanoi (n,'A','B','C')\n"
      ]
    }
  ]
}