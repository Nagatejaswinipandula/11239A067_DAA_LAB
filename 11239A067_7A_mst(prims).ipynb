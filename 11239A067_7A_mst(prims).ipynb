{
  "nbformat": 4,
  "nbformat_minor": 0,
  "metadata": {
    "colab": {
      "provenance": [],
      "authorship_tag": "ABX9TyNZFTBGR8G+1AyZShtXMM30",
      "include_colab_link": true
    },
    "kernelspec": {
      "name": "python3",
      "display_name": "Python 3"
    },
    "language_info": {
      "name": "python"
    }
  },
  "cells": [
    {
      "cell_type": "markdown",
      "metadata": {
        "id": "view-in-github",
        "colab_type": "text"
      },
      "source": [
        "<a href=\"https://colab.research.google.com/github/Nagatejaswinipandula/11239A067_DAA_LAB/blob/main/11239A067_7A_mst(prims).ipynb\" target=\"_parent\"><img src=\"https://colab.research.google.com/assets/colab-badge.svg\" alt=\"Open In Colab\"/></a>"
      ]
    },
    {
      "cell_type": "code",
      "execution_count": 9,
      "metadata": {
        "id": "tl4FvP1mhfO9"
      },
      "outputs": [],
      "source": [
        "import heapq\n",
        "\n",
        "class Graph:\n",
        "    def _init_(self, vertices):\n",
        "        self.V = vertices\n",
        "        self.graph = []\n",
        "\n",
        "    def add_edge(self, u, v, w):\n",
        "        self.graph.append((w, u, v))\n",
        "\n",
        "    def prim_mst(self):\n",
        "        self.graph.sort()\n",
        "        pq = []\n",
        "        in_mst = [False] * self.V\n",
        "        in_mst[0] = True\n",
        "        for weight, u, v in self.graph:\n",
        "            if u == 0 or v == 0:\n",
        "                heapq.heappush(pq, (weight, u, v))\n",
        "        mst_edges = []\n",
        "        total_cost = 0\n",
        "        while pq:\n",
        "            weight, u, v = heapq.heappop(pq)\n",
        "            if not in_mst[v]:\n",
        "                in_mst[v] = True\n",
        "                mst_edges.append((u, v, weight))\n",
        "                total_cost += weight\n",
        "                for next_weight, next_u, next_v in self.graph:\n",
        "                    if (next_u == v and not in_mst[next_v]) or (next_v == v and not in_mst[next_u]):\n",
        "                        heapq.heappush(pq, (next_weight, next_u, next_v))\n",
        "        return mst_edges, total_cost\n",
        "\n",
        "    def display_graph(self):\n",
        "        print(\"Graph vertices: \", list(range(self.V)))\n",
        "        print(\"Graph edges with weights:\")\n",
        "        for weight, u, v in self.graph:\n",
        "            print(f\"Edge: {u} - {v}, Weight: {weight}\")\n",
        "\n",
        "def main():\n",
        "    g = Graph(5)\n",
        "    g.add_edge(0, 1, 2)\n",
        "    g.add_edge(0, 3, 6)\n",
        "    g.add_edge(1, 2, 3)\n",
        "    g.add_edge(1, 3, 8)\n",
        "    g.add_edge(1, 4, 5)\n",
        "    g.add_edge(2, 4, 7)\n",
        "    g.add_edge(3, 4, 9)\n",
        "\n",
        "    g.display_graph()\n",
        "\n",
        "    mst_edges, total_cost = g.prim_mst()\n",
        "\n",
        "    print(\"\\nMinimum Spanning Tree edges:\")\n",
        "    for u, v, weight in mst_edges:\n",
        "        print(f\"Edge: {u} - {v}, Weight: {weight}\")\n",
        "    print(f\"Total cost of MST: {total_cost}\")\n",
        "    if _name_ == \"_main_\":\n",
        "      main()"
      ]
    }
  ]
}