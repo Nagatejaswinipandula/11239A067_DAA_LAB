{
  "nbformat": 4,
  "nbformat_minor": 0,
  "metadata": {
    "colab": {
      "provenance": [],
      "authorship_tag": "ABX9TyPQnOnYzZ/41pynL2QD885d",
      "include_colab_link": true
    },
    "kernelspec": {
      "name": "python3",
      "display_name": "Python 3"
    },
    "language_info": {
      "name": "python"
    }
  },
  "cells": [
    {
      "cell_type": "markdown",
      "metadata": {
        "id": "view-in-github",
        "colab_type": "text"
      },
      "source": [
        "<a href=\"https://colab.research.google.com/github/Nagatejaswinipandula/11239A067_DAA_LAB/blob/main/11239A067_6B_floyd_warshall.ipynb\" target=\"_parent\"><img src=\"https://colab.research.google.com/assets/colab-badge.svg\" alt=\"Open In Colab\"/></a>"
      ]
    },
    {
      "cell_type": "code",
      "execution_count": 5,
      "metadata": {
        "colab": {
          "base_uri": "https://localhost:8080/"
        },
        "id": "tl4FvP1mhfO9",
        "outputId": "dd5ebbe6-247d-4a81-fb4e-1c7954cc47ed"
      },
      "outputs": [
        {
          "output_type": "stream",
          "name": "stdout",
          "text": [
            "Vertex  Previous Vertex  Distance from Start\n",
            "A      -               0\n",
            "B      A               4\n",
            "C      A               2\n",
            "D      C               5\n",
            "\n",
            "Shortest path from A to D: A -> C -> D\n",
            "Shortest distance: 5\n"
          ]
        }
      ],
      "source": [
        "def floyd_warshall(graph):\n",
        "    n = len(graph)\n",
        "    dist = [[graph[i][j] if graph[i][j] != 0 else float('inf') for j in range(n)] for i in range(n)]\n",
        "    for i in range(n):\n",
        "        dist[i][i] = 0\n",
        "    for k in range(n):\n",
        "        for i in range(n):\n",
        "            for j in range(n):\n",
        "                dist[i][j] = min(dist[i][j], dist[i][k] + dist[k][j])\n",
        "    return dist\n",
        "graph = [\n",
        "    [0,1,2,3],\n",
        "    [3, 0 ,1,2],\n",
        "    [1, 3, 2,0],\n",
        "]\n",
        "result = floyd_warshall(graph)\n",
        "for row in result:\n",
        "    print(row)"
      ]
    }
  ]
}