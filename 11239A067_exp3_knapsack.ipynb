{
  "nbformat": 4,
  "nbformat_minor": 0,
  "metadata": {
    "colab": {
      "provenance": [],
      "authorship_tag": "ABX9TyOxLD092UggRucvZyMkXfid",
      "include_colab_link": true
    },
    "kernelspec": {
      "name": "python3",
      "display_name": "Python 3"
    },
    "language_info": {
      "name": "python"
    }
  },
  "cells": [
    {
      "cell_type": "markdown",
      "metadata": {
        "id": "view-in-github",
        "colab_type": "text"
      },
      "source": [
        "<a href=\"https://colab.research.google.com/github/Nagatejaswinipandula/11239A067_DAA_LAB/blob/main/11239A067_exp3_knapsack.ipynb\" target=\"_parent\"><img src=\"https://colab.research.google.com/assets/colab-badge.svg\" alt=\"Open In Colab\"/></a>"
      ]
    },
    {
      "cell_type": "code",
      "execution_count": 3,
      "metadata": {
        "colab": {
          "base_uri": "https://localhost:8080/"
        },
        "id": "tl4FvP1mhfO9",
        "outputId": "eb68fb1d-b381-4346-ffa7-3e309b7e75f1"
      },
      "outputs": [
        {
          "output_type": "stream",
          "name": "stdout",
          "text": [
            "first fit bins: 1\n",
            "first fit  decreasing bins: 1\n",
            "best fit bins: 1\n"
          ]
        }
      ],
      "source": [
        "def fit(weight,capacity,strategy):\n",
        "    bins=[]\n",
        "    for w in sorted(weight,reverse=(strategy=='decreasing')):\n",
        "        for i in range(len(bins)):\n",
        "            if bins[i]>=w:\n",
        "                bins[i]-=w\n",
        "                break\n",
        "        else:\n",
        "            bins. append (capacity- w )\n",
        "            return len(bins)\n",
        "weight=[2,3,5,8,1,3,8,7]\n",
        "capacity=10\n",
        "print(\"first fit bins:\",fit(weight,capacity,'first'))\n",
        "print(\"first fit  decreasing bins:\",fit(weight,capacity,'decreasing'))\n",
        "print(\"best fit bins:\",fit(weight,capacity,'best'))\n",
        "\n",
        "\n",
        "\n",
        "\n",
        "\n",
        "\n"
      ]
    }
  ]
}