{
  "nbformat": 4,
  "nbformat_minor": 0,
  "metadata": {
    "colab": {
      "provenance": [],
      "authorship_tag": "ABX9TyMdRob43OJOunqPJBoJCrLQ",
      "include_colab_link": true
    },
    "kernelspec": {
      "name": "python3",
      "display_name": "Python 3"
    },
    "language_info": {
      "name": "python"
    }
  },
  "cells": [
    {
      "cell_type": "markdown",
      "metadata": {
        "id": "view-in-github",
        "colab_type": "text"
      },
      "source": [
        "<a href=\"https://colab.research.google.com/github/Nagatejaswinipandula/11239A067_DAA_LAB/blob/main/11239A067_exp7B_mst(kruskals).ipynb\" target=\"_parent\"><img src=\"https://colab.research.google.com/assets/colab-badge.svg\" alt=\"Open In Colab\"/></a>"
      ]
    },
    {
      "cell_type": "code",
      "execution_count": 6,
      "metadata": {
        "colab": {
          "base_uri": "https://localhost:8080/"
        },
        "id": "H2stZIELUfuX",
        "outputId": "effc55a2-595d-4e44-8020-7fa18bbc91c5"
      },
      "outputs": [
        {
          "output_type": "stream",
          "name": "stdout",
          "text": [
            "Edges in MST:\n",
            "2 -- 3 == 4\n",
            "0 -- 3 == 5\n",
            "0 -- 1 == 10\n",
            "Total cost of MST: 19\n"
          ]
        }
      ],
      "source": [
        "class DisjointSet:\n",
        "    def __init__(self, n):\n",
        "        self.parent = list(range(n))\n",
        "        self.rank = [0] * n\n",
        "    def find(self, u):\n",
        "        if self.parent[u] != u:\n",
        "            self.parent[u] = self.find(self.parent[u])\n",
        "        return self.parent[u]\n",
        "    def union(self, u, v):\n",
        "        root_u = self.find(u)\n",
        "        root_v = self.find(v)\n",
        "        if root_u == root_v:\n",
        "            return False\n",
        "        if self.rank[root_u] < self.rank[root_v]:\n",
        "            self.parent[root_u] = root_v\n",
        "        elif self.rank[root_u] > self.rank[root_v]:\n",
        "            self.parent[root_v] = root_u\n",
        "        else:\n",
        "            self.parent[root_v] = root_u\n",
        "            self.rank[root_u] += 1\n",
        "        return True\n",
        "def kruskal(n, edges):\n",
        "    edges.sort(key=lambda x: x[2])\n",
        "    ds = DisjointSet(n)\n",
        "    mst = []\n",
        "    total_weight = 0\n",
        "\n",
        "    for u, v, weight in edges:\n",
        "        if ds.union(u, v):\n",
        "            mst.append((u, v, weight))\n",
        "            total_weight += weight\n",
        "        if len(mst) == n - 1:\n",
        "            break\n",
        "\n",
        "    return mst, total_weight\n",
        "nodes = 5\n",
        "edges = [\n",
        "    (0, 1, 10),\n",
        "    (0, 2, 6),\n",
        "    (0, 3, 5),\n",
        "    (1, 3, 15),\n",
        "    (2, 3, 4)\n",
        "]\n",
        "\n",
        "mst, cost = kruskal(nodes, edges)\n",
        "print(\"Edges in MST:\")\n",
        "for u, v, w in mst:\n",
        "    print(f\"{u} -- {v} == {w}\")\n",
        "print(\"Total cost of MST:\", cost)\n"
      ]
    }
  ]
}